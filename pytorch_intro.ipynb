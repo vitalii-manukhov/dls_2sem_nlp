{
 "cells": [
  {
   "cell_type": "markdown",
   "metadata": {},
   "source": [
    "### Импорт библиотек"
   ]
  },
  {
   "cell_type": "code",
   "execution_count": 64,
   "metadata": {},
   "outputs": [],
   "source": [
    "import numpy as np\n",
    "import pandas\n",
    "import matplotlib.pyplot as plt\n",
    "import seaborn as sns\n",
    "\n",
    "import torch\n",
    "import torch.nn as nn"
   ]
  },
  {
   "cell_type": "markdown",
   "metadata": {},
   "source": [
    "### Краткая теоретическая часть"
   ]
  },
  {
   "cell_type": "markdown",
   "metadata": {},
   "source": [
    "Глубокое обучение - обучение функции, представляющей композицию множества нелинейных преобразований. Такая сложная функция назвается потоком или графом вычислений. Фреймворк глубокого обучения должен уметь делать три вещи:\n",
    "- Определять граф вычислений\n",
    "- Дифференцировать граф вычислений\n",
    "- Вычислять граф вычислений  \n",
    "\n",
    "...  \n",
    "\n",
    "Зеленый: forward pass  \n",
    "Красный: bacward pass"
   ]
  },
  {
   "cell_type": "markdown",
   "metadata": {},
   "source": [
    "### Тензоры\n",
    "Тип данных, хранимых тензором, отражается в имени его конструктора. Контсруктор без параметров вернёт специальное значение - тензор без размерности, который нельзя использовать ни в каких операциях."
   ]
  },
  {
   "cell_type": "code",
   "execution_count": 65,
   "metadata": {},
   "outputs": [
    {
     "data": {
      "text/plain": [
       "tensor([])"
      ]
     },
     "execution_count": 65,
     "metadata": {},
     "output_type": "execute_result"
    }
   ],
   "source": [
    "torch.tensor([])"
   ]
  },
  {
   "cell_type": "code",
   "execution_count": 66,
   "metadata": {},
   "outputs": [],
   "source": [
    "torch.HalfTensor  # 16 бит, с плавающей запятой\n",
    "torch.FloatTensor  # 32 бита, с плавающей точкой\n",
    "torch.DoubleTensor  # 64 бита, с плавающей точкой\n",
    "\n",
    "torch.ShortTensor  # 16 бит, целочисленный, знаковый\n",
    "torch.IntTensor  # 32 бита, целочисленный, знаковый\n",
    "torch.LongTensor  # 64 бита, целочесленный, знаковый\n",
    "\n",
    "torch.CharTensor  # 8 бит, целочисленный, знаковый\n",
    "torch.ByteTensor  # 8 бит, целочисленный, беззнаковый\n",
    "pass"
   ]
  },
  {
   "cell_type": "code",
   "execution_count": 67,
   "metadata": {},
   "outputs": [
    {
     "name": "stdout",
     "output_type": "stream",
     "text": [
      "tensor([1], dtype=torch.uint8)\n",
      "tensor([1.])\n"
     ]
    }
   ],
   "source": [
    "tensor = torch.IntTensor([1])\n",
    "print(tensor.byte())\n",
    "print(tensor.float())"
   ]
  },
  {
   "cell_type": "code",
   "execution_count": 68,
   "metadata": {},
   "outputs": [
    {
     "data": {
      "text/plain": [
       "tensor([[1, 2],\n",
       "        [3, 4]], dtype=torch.int32)"
      ]
     },
     "execution_count": 68,
     "metadata": {},
     "output_type": "execute_result"
    }
   ],
   "source": [
    "tensor = torch.IntTensor([[1, 2], [3, 4]])\n",
    "tensor"
   ]
  },
  {
   "cell_type": "code",
   "execution_count": 69,
   "metadata": {},
   "outputs": [
    {
     "name": "stdout",
     "output_type": "stream",
     "text": [
      "tensor([-2.5596e+18])\n",
      "\n",
      "tensor([[-1.2390e-02,  4.5562e-41, -1.2390e-02],\n",
      "        [ 4.5562e-41,  0.0000e+00,  1.3572e+07],\n",
      "        [ 1.8077e-43,  0.0000e+00, -1.0290e-02]])\n"
     ]
    }
   ],
   "source": [
    "# Указание только формы тензора\n",
    "print(torch.FloatTensor(1))\n",
    "print()\n",
    "print(torch.FloatTensor(3, 3))"
   ]
  },
  {
   "cell_type": "code",
   "execution_count": 70,
   "metadata": {},
   "outputs": [
    {
     "name": "stdout",
     "output_type": "stream",
     "text": [
      "Исходный тензор:\n",
      " tensor([[1, 2],\n",
      "        [3, 4]], dtype=torch.int32)\n",
      "Индексация:\n",
      "tensor([1, 2], dtype=torch.int32)\n",
      "tensor(1, dtype=torch.int32)\n",
      "tensor(1, dtype=torch.int32)\n",
      "tensor([1, 3], dtype=torch.int32)\n",
      "tensor([2], dtype=torch.int32)\n"
     ]
    }
   ],
   "source": [
    "# Индексирование\n",
    "print(\"Исходный тензор:\\n\", tensor)\n",
    "print(\"Индексация:\")\n",
    "print(tensor[0])\n",
    "print(tensor[0][0])\n",
    "print(tensor[0, 0])\n",
    "print(tensor[:, 0])\n",
    "print(tensor[0, 1:2])"
   ]
  },
  {
   "cell_type": "code",
   "execution_count": 71,
   "metadata": {},
   "outputs": [
    {
     "data": {
      "text/plain": [
       "tensor([[102, 179,  92,  14],\n",
       "        [106,  71, 188,  20],\n",
       "        [102, 121, 210, 214]], dtype=torch.uint8)"
      ]
     },
     "execution_count": 71,
     "metadata": {},
     "output_type": "execute_result"
    }
   ],
   "source": [
    "# Инициализация случайными значениями\n",
    "g_cpu = torch.Generator()\n",
    "g_cpu.manual_seed(42)\n",
    "tensor = torch.ByteTensor(3, 4).random_(generator=g_cpu)\n",
    "tensor"
   ]
  },
  {
   "cell_type": "code",
   "execution_count": 72,
   "metadata": {},
   "outputs": [
    {
     "name": "stdout",
     "output_type": "stream",
     "text": [
      "tensor([[102, 179,  92,  14],\n",
      "        [106,  71, 188,  20]], dtype=torch.uint8)\n",
      "\n",
      "tensor([[102, 179,  92,  14],\n",
      "        [102, 121, 210, 214]], dtype=torch.uint8)\n"
     ]
    }
   ],
   "source": [
    "print(tensor[:2])\n",
    "print()\n",
    "# Также меняем тип данных\n",
    "print(tensor[torch.LongTensor([0, 2])])"
   ]
  },
  {
   "cell_type": "code",
   "execution_count": 73,
   "metadata": {},
   "outputs": [
    {
     "data": {
      "text/plain": [
       "tensor([179, 188, 210, 214], dtype=torch.uint8)"
      ]
     },
     "execution_count": 73,
     "metadata": {},
     "output_type": "execute_result"
    }
   ],
   "source": [
    "# Выборка по условию\n",
    "tensor[tensor > 128]"
   ]
  },
  {
   "cell_type": "code",
   "execution_count": 74,
   "metadata": {},
   "outputs": [
    {
     "name": "stdout",
     "output_type": "stream",
     "text": [
      "2\n",
      "torch.Size([3, 4])\n",
      "torch.ByteTensor\n",
      "94720072247680\n"
     ]
    }
   ],
   "source": [
    "# Информация про тензор\n",
    "print(tensor.dim())\n",
    "print(tensor.size())\n",
    "print(tensor.type())\n",
    "print(tensor.data_ptr())"
   ]
  },
  {
   "cell_type": "markdown",
   "metadata": {},
   "source": [
    "### Операции над тензорами\n",
    "Функция вида func в PyTorch возвращает новый тензор (immutable функция). В противоположность func_ изменяет изначальный тензор (mutalbe/inplace функция). Существуют функции исключения, которые имеют только один тип, например, функция изменяющая размер (immutable)  \n",
    "\n",
    "...  \n"
   ]
  },
  {
   "cell_type": "code",
   "execution_count": 103,
   "metadata": {},
   "outputs": [
    {
     "name": "stdout",
     "output_type": "stream",
     "text": [
      "tensor([[0., 0., 0.],\n",
      "        [0., 0., 0.],\n",
      "        [0., 0., 0.]])\n",
      "tensor([[1., 1., 1.],\n",
      "        [1., 1., 1.],\n",
      "        [1., 1., 1.]])\n",
      "tensor([[42., 67., 76.],\n",
      "        [14., 26., 35.],\n",
      "        [20., 24., 50.]])\n",
      "tensor([[0.3890, 0.5890, 0.9705],\n",
      "        [0.5475, 0.7896, 0.8881],\n",
      "        [0.9037, 0.3273, 0.3882]])\n",
      "tensor([[ 1.5231,  0.6647, -1.0324],\n",
      "        [-0.2770, -0.1671, -0.1079],\n",
      "        [-1.4285, -0.2810,  0.7489]])\n",
      "tensor([[1., 1., 1.],\n",
      "        [0., 1., 0.],\n",
      "        [0., 1., 0.]])\n"
     ]
    }
   ],
   "source": [
    "# Заполнение мусорного тензора\n",
    "tensor = torch.FloatTensor(3, 3)\n",
    "print(tensor.zero_())\n",
    "print(tensor.fill_(1))\n",
    "\n",
    "g_cpu.manual_seed(42)\n",
    "print(tensor.random_(0, 100, generator=g_cpu))\n",
    "\n",
    "print(tensor.uniform_(0, 1))\n",
    "print(tensor.normal_(mean=0, std=1, generator=g_cpu))\n",
    "print(tensor.bernoulli_(p=0.5))"
   ]
  },
  {
   "cell_type": "code",
   "execution_count": 116,
   "metadata": {},
   "outputs": [
    {
     "name": "stdout",
     "output_type": "stream",
     "text": [
      "Исходный тензор:\n",
      " tensor([[1., 1., 1.],\n",
      "        [0., 1., 0.],\n",
      "        [0., 1., 0.]])\n",
      "Применение математических операций:\n",
      "tensor([[43., 68., 77.],\n",
      "        [14., 27., 35.],\n",
      "        [20., 25., 50.]])\n",
      "tensor([[-41., -66., -75.],\n",
      "        [-14., -25., -35.],\n",
      "        [-20., -23., -50.]])\n",
      "tensor([[42., 67., 76.],\n",
      "        [ 0., 26.,  0.],\n",
      "        [ 0., 24.,  0.]])\n",
      "tensor([[0.0238, 0.0149, 0.0132],\n",
      "        [0.0000, 0.0385, 0.0000],\n",
      "        [0.0000, 0.0417, 0.0000]])\n",
      "tensor([[42., 67., 76.],\n",
      "        [ 0., 26.,  0.],\n",
      "        [ 0., 24.,  0.]])\n",
      "tensor([[2.7183, 2.7183, 2.7183],\n",
      "        [1.0000, 2.7183, 1.0000],\n",
      "        [1.0000, 2.7183, 1.0000]])\n",
      "tensor([[0., 0., 0.],\n",
      "        [-inf, 0., -inf],\n",
      "        [-inf, 0., -inf]])\n",
      "tensor([[2., 2., 2.],\n",
      "        [1., 2., 1.],\n",
      "        [1., 2., 1.]])\n",
      "tensor([[0.6931, 0.6931, 0.6931],\n",
      "        [0.0000, 0.6931, 0.0000],\n",
      "        [0.0000, 0.6931, 0.0000]])\n",
      "tensor([[1., 1., 1.],\n",
      "        [0., 1., 0.],\n",
      "        [0., 1., 0.]])\n"
     ]
    }
   ],
   "source": [
    "# Математические операции\n",
    "g_cpu.manual_seed(42)\n",
    "tensor_a = torch.FloatTensor(tensor)\n",
    "tensor_b = torch.FloatTensor(3, 3).random_(0, 100, generator=g_cpu)\n",
    "\n",
    "tensor_sum = tensor_a.add(tensor_b)\n",
    "tensor_sub = tensor_a.sub(tensor_b)\n",
    "tensor_mul = tensor_a.mul(tensor_b)\n",
    "tensor_div = tensor_a.div(tensor_b)\n",
    "tensor_exp = tensor_a.exp()\n",
    "tensor_log = tensor_a.log()  # Натуральный логарифм\n",
    "tensor_plus_one = tensor_a + 1\n",
    "tensor_log1p = tensor_a.log1p()  # Натуральный логарифм от tensor + 1\n",
    "tensor_abs = tensor_a.abs()\n",
    "\n",
    "print(\"Исходный тензор:\\n\", tensor)\n",
    "print(\"Применение математических операций:\")\n",
    "print(tensor_sum)\n",
    "print(tensor_sub)\n",
    "print(tensor_mul)\n",
    "print(tensor_div)\n",
    "print(tensor_mul)\n",
    "print(tensor_exp)\n",
    "print(tensor_log)\n",
    "print(tensor_plus_one)\n",
    "print(tensor_log1p)\n",
    "print(tensor_abs)\n"
   ]
  },
  {
   "cell_type": "code",
   "execution_count": 121,
   "metadata": {},
   "outputs": [
    {
     "name": "stdout",
     "output_type": "stream",
     "text": [
      "tensor([[1., 0., 0.],\n",
      "        [1., 1., 1.],\n",
      "        [1., 0., 0.]])\n",
      "tensor([[ 76., 117., 161.],\n",
      "        [ 14.,  26.,  35.],\n",
      "        [ 14.,  26.,  35.]])\n",
      "tensor(32.)\n",
      "tensor([6., 2., 2.])\n"
     ]
    }
   ],
   "source": [
    "# Векторные и матричные операции\n",
    "tensor_c = torch.FloatTensor([1, 2 ,3])\n",
    "tensor_d = torch.FloatTensor([4, 5, 6])\n",
    "\n",
    "tensor_transpose = tensor_a.t()\n",
    "tensor_mm = tensor_a.mm(tensor_b)  # matrix matrix\n",
    "tensor_dot = torch.dot(tensor_c, tensor_d)  \n",
    "tensor_mv = tensor_a.mv(tensor_c)  # matrix vector\n",
    "\n",
    "print(tensor_transpose)\n",
    "print(tensor_mm)\n",
    "print(tensor_dot)\n",
    "print(tensor_mv)"
   ]
  },
  {
   "cell_type": "code",
   "execution_count": 123,
   "metadata": {},
   "outputs": [
    {
     "data": {
      "text/plain": [
       "torch.Size([10, 3, 5])"
      ]
     },
     "execution_count": 123,
     "metadata": {},
     "output_type": "execute_result"
    }
   ],
   "source": [
    "# Умножение батчами\n",
    "g_cpu.manual_seed(42)\n",
    "batch_tensor_a = torch.randn(10, 3, 4, generator=g_cpu)  # 10 батчей 3 x 4\n",
    "batch_tensor_b = torch.randn(10, 4, 5, generator=g_cpu)\n",
    "\n",
    "batch_tensor_result = torch.bmm(batch_tensor_a,\n",
    "                                batch_tensor_b)\n",
    "batch_tensor_result.size()"
   ]
  },
  {
   "cell_type": "code",
   "execution_count": 131,
   "metadata": {},
   "outputs": [
    {
     "name": "stdout",
     "output_type": "stream",
     "text": [
      "Исходный тензор:\n",
      " tensor([[1., 1., 1.],\n",
      "        [0., 1., 0.],\n",
      "        [0., 1., 0.]])\n",
      "tensor(0.5556)\n",
      "tensor(0.5270)\n",
      "tensor(0.2778)\n",
      "tensor(1.)\n",
      "tensor(5.)\n",
      "tensor(0.)\n",
      "tensor(1.)\n",
      "tensor(0.)\n"
     ]
    }
   ],
   "source": [
    "# Выборочное среднее, стандартное отклонение, дисперсия\n",
    "# Медиана, сумма, произведение, максимум, минимум\n",
    "tensor_mean = torch.mean(tensor)\n",
    "tensor_std = torch.std(tensor)\n",
    "tensor_var = torch.var(tensor)\n",
    "tensor_median = torch.median(tensor)\n",
    "tensor_sum = torch.sum(tensor)\n",
    "tensor_prod = torch.prod(tensor)\n",
    "tensor_max = torch.max(tensor)\n",
    "tensor_min = torch.min(tensor)\n",
    "\n",
    "print(\"Исходный тензор:\\n\", tensor)\n",
    "print(tensor_mean)\n",
    "print(tensor_std)\n",
    "print(tensor_var)\n",
    "print(tensor_median)\n",
    "print(tensor_sum)\n",
    "print(tensor_prod)\n",
    "print(tensor_max)\n",
    "print(tensor_min)\n",
    "\n"
   ]
  },
  {
   "cell_type": "code",
   "execution_count": 132,
   "metadata": {},
   "outputs": [],
   "source": [
    "# Операции сравнения (eq, ne, gt, lt, ge, le => ByteTensor)\n",
    "# Операторы +, +=, -, -=, *, *=, /, /=, @\n",
    "# Сортировка, поэлементное применение функций\n",
    "# Конвертация с numpy: torch.from_numpy(...), tensor.numpy()"
   ]
  },
  {
   "cell_type": "code",
   "execution_count": 133,
   "metadata": {},
   "outputs": [],
   "source": [
    "# Пример линейного слоя с функцией активации softmax\n",
    "def LinearSoftmax(x, w, b):\n",
    "    s = x.mm(w).add_(b)\n",
    "    s.exp_()\n",
    "    s.div_(s.sum(1))\n",
    "\n",
    "    return s"
   ]
  },
  {
   "cell_type": "code",
   "execution_count": null,
   "metadata": {},
   "outputs": [],
   "source": []
  }
 ],
 "metadata": {
  "kernelspec": {
   "display_name": ".venv",
   "language": "python",
   "name": "python3"
  },
  "language_info": {
   "codemirror_mode": {
    "name": "ipython",
    "version": 3
   },
   "file_extension": ".py",
   "mimetype": "text/x-python",
   "name": "python",
   "nbconvert_exporter": "python",
   "pygments_lexer": "ipython3",
   "version": "3.10.12"
  }
 },
 "nbformat": 4,
 "nbformat_minor": 2
}
