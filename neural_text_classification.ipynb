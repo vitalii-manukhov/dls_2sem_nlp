{
 "cells": [
  {
   "cell_type": "markdown",
   "metadata": {},
   "source": [
    "### Импорт библиотек"
   ]
  },
  {
   "cell_type": "code",
   "execution_count": 2,
   "metadata": {},
   "outputs": [
    {
     "name": "stderr",
     "output_type": "stream",
     "text": [
      "[nltk_data] Downloading package punkt to /home/vitalii/nltk_data...\n",
      "[nltk_data]   Package punkt is already up-to-date!\n"
     ]
    },
    {
     "name": "stdout",
     "output_type": "stream",
     "text": [
      "cpu\n"
     ]
    }
   ],
   "source": [
    "import torch\n",
    "import torch.nn as nn\n",
    "from torch.utils.data import Dataset, DataLoader\n",
    "\n",
    "from nltk.tokenize import word_tokenize\n",
    "import nltk\n",
    "nltk.download(\"punkt\")\n",
    "\n",
    "import seaborn\n",
    "seaborn.set_theme(palette=\"summer\")\n",
    "\n",
    "import numpy as np\n",
    "import matplotlib.pyplot as plt\n",
    "import datasets\n",
    "from tqdm.auto import tqdm\n",
    "from datasets import load_dataset\n",
    "from sklearn.model_selection import train_test_split\n",
    "from collections import Counter\n",
    "from typing import List\n",
    "import string\n",
    "\n",
    "device = \"cuda\" if torch.cuda.is_available() else \"cpu\"\n",
    "print(device)"
   ]
  },
  {
   "cell_type": "markdown",
   "metadata": {},
   "source": [
    "### Загрузка набора данных"
   ]
  },
  {
   "cell_type": "code",
   "execution_count": 2,
   "metadata": {},
   "outputs": [],
   "source": [
    "dataset = datasets.load_dataset(\"imdb\")\n",
    "pass"
   ]
  },
  {
   "cell_type": "markdown",
   "metadata": {},
   "source": [
    "### Подсчёт частоты вхождения слов для составления словаря"
   ]
  },
  {
   "cell_type": "code",
   "execution_count": 3,
   "metadata": {},
   "outputs": [
    {
     "data": {
      "application/vnd.jupyter.widget-view+json": {
       "model_id": "6b67bb17dfa845b4a70551d6fd855835",
       "version_major": 2,
       "version_minor": 0
      },
      "text/plain": [
       "  0%|          | 0/25000 [00:00<?, ?it/s]"
      ]
     },
     "metadata": {},
     "output_type": "display_data"
    }
   ],
   "source": [
    "words = Counter()\n",
    "\n",
    "for example in tqdm(dataset[\"train\"][\"text\"]):\n",
    "    # Приводим к нижнему регистру и убираем пунктуацию\n",
    "    processed_text = example.lower().translate(\n",
    "        str.maketrans('', '', string.punctuation)\n",
    "    )\n",
    "\n",
    "    # Находим все слова и считаем их частоту вхождения\n",
    "    for word in word_tokenize(processed_text):\n",
    "        words[word] += 1"
   ]
  },
  {
   "cell_type": "code",
   "execution_count": 4,
   "metadata": {},
   "outputs": [
    {
     "data": {
      "text/plain": [
       "11399"
      ]
     },
     "execution_count": 4,
     "metadata": {},
     "output_type": "execute_result"
    }
   ],
   "source": [
    "# Установка специальных токенов:\n",
    "# <unk> - неизвестный токен\n",
    "# <bos>, <eos> - начало и конец последовательности\n",
    "# <pad> - объединение последовательностей разных длин в один батч\n",
    "vocab = set([\"<unk>\", \"<bos>\", \"<eos>\", \"<pad>\"])\n",
    "# Добавление слов, которые встречались >25 раз\n",
    "counter_threshold = 25\n",
    "\n",
    "for char, cnt in words.items():\n",
    "    if cnt > counter_threshold:\n",
    "        vocab.add(char)\n",
    "\n",
    "len(vocab)"
   ]
  },
  {
   "cell_type": "code",
   "execution_count": 5,
   "metadata": {},
   "outputs": [],
   "source": [
    "# Словари word2ind и ind2word\n",
    "# осуществляют mapping из слов в индексы и наоборот\n",
    "word2ind = {char: i for i, char in enumerate(vocab)}\n",
    "ind2word = {i: char for char, i in word2ind.items()}"
   ]
  },
  {
   "cell_type": "markdown",
   "metadata": {},
   "source": [
    "### Работа с torch dataloader\n",
    "Класс Dataset должен имплеминтировать 3 пункта:\n",
    "- Конструктор для создания объекта класса\n",
    "- \\_\\_getitem__ - получение по индексу объект набора данных\n",
    "- \\_\\_len__ - длина набора данных"
   ]
  },
  {
   "cell_type": "code",
   "execution_count": 6,
   "metadata": {},
   "outputs": [],
   "source": [
    "class WordDataset:\n",
    "    def __init__(self, sentences):\n",
    "        self.data = sentences\n",
    "        self.unk_id = word2ind[\"<unk>\"]\n",
    "        self.bos_id = word2ind[\"<bos>\"]\n",
    "        self.eos_id = word2ind[\"<eos>\"]\n",
    "        self.pad_id = word2ind[\"<pad>\"]\n",
    "\n",
    "    def __getitem__(self, idx: int) -> List[int]:\n",
    "        processed_text = self.data[idx][\"text\"].lower().translate(\n",
    "            str.maketrans('', '', string.punctuation)\n",
    "        )\n",
    "        tokenized_sentence = [self.bos_id]\n",
    "        tokenized_sentence += [\n",
    "            word2ind.get(word, self.unk_id) for word in word_tokenize(\n",
    "                processed_text\n",
    "            )\n",
    "        ]\n",
    "        tokenized_sentence += [self.eos_id]\n",
    "\n",
    "        train_sample = {\n",
    "            \"text\": tokenized_sentence,\n",
    "            \"label\": self.data[idx][\"label\"]\n",
    "        }\n",
    "\n",
    "        return train_sample\n",
    "    \n",
    "    def __len__(self) -> int:\n",
    "        return len(self.data)"
   ]
  },
  {
   "cell_type": "code",
   "execution_count": 7,
   "metadata": {},
   "outputs": [],
   "source": [
    "def collate_fn_with_padding(\n",
    "    input_batch: List[List[int]], pad_id=word2ind[\"<pad>\"], max_len=256\n",
    ") -> torch.Tensor:\n",
    "    seq_lens = [len(x[\"text\"]) for x in input_batch]\n",
    "    max_seq_len = min(max(seq_lens), max_len)\n",
    "\n",
    "    new_batch = []\n",
    "    for sequence in input_batch:\n",
    "        sequence[\"text\"] = sequence[\"text\"][:max_seq_len]\n",
    "        for _ in range(max_seq_len - len(sequence[\"text\"])):\n",
    "            sequence[\"text\"].append(pad_id)\n",
    "\n",
    "        new_batch.append(sequence[\"text\"])\n",
    "\n",
    "    sequence = torch.LongTensor(new_batch).to(device)\n",
    "    labels = torch.LongTensor([x[\"label\"] for x in input_batch]).to(device)\n",
    "\n",
    "    new_batch = {\n",
    "        \"input_ids\": sequence,\n",
    "        \"label\": labels\n",
    "    }\n",
    "\n",
    "    return new_batch"
   ]
  },
  {
   "cell_type": "code",
   "execution_count": 8,
   "metadata": {},
   "outputs": [],
   "source": [
    "train_dataset = WordDataset(dataset[\"train\"])\n",
    "\n",
    "np.random.seed(42)\n",
    "idx = np.random.choice(np.arange(len(dataset[\"test\"])), 2000)\n",
    "eval_dataset = WordDataset(dataset[\"test\"].select(idx))\n",
    "\n",
    "batch_size = 128\n",
    "train_dataloader = DataLoader(\n",
    "    train_dataset,\n",
    "    shuffle=True,\n",
    "    collate_fn=collate_fn_with_padding,\n",
    "    batch_size=batch_size\n",
    ")\n",
    "\n",
    "eval_dataloader = DataLoader(\n",
    "    eval_dataset,\n",
    "    shuffle=False,\n",
    "    collate_fn=collate_fn_with_padding,\n",
    "    batch_size=batch_size\n",
    ")"
   ]
  },
  {
   "cell_type": "markdown",
   "metadata": {},
   "source": [
    "### Архитектура модели"
   ]
  },
  {
   "cell_type": "code",
   "execution_count": null,
   "metadata": {},
   "outputs": [],
   "source": [
    "class CharLM(nn.Module):\n",
    "    def __init__(\n",
    "        self, hidden_dim: int, vocab_size: int,\n",
    "        num_classes: int = 2,\n",
    "        aggregation_type: str = \"max\"\n",
    "    ):\n",
    "    pass\n",
    "        "
   ]
  }
 ],
 "metadata": {
  "kernelspec": {
   "display_name": ".venv",
   "language": "python",
   "name": "python3"
  },
  "language_info": {
   "codemirror_mode": {
    "name": "ipython",
    "version": 3
   },
   "file_extension": ".py",
   "mimetype": "text/x-python",
   "name": "python",
   "nbconvert_exporter": "python",
   "pygments_lexer": "ipython3",
   "version": "3.10.12"
  }
 },
 "nbformat": 4,
 "nbformat_minor": 2
}
