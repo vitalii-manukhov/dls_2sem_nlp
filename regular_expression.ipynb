{
 "cells": [
  {
   "cell_type": "markdown",
   "metadata": {},
   "source": [
    "### Модуль re"
   ]
  },
  {
   "cell_type": "code",
   "execution_count": 50,
   "metadata": {},
   "outputs": [],
   "source": [
    "import re"
   ]
  },
  {
   "cell_type": "markdown",
   "metadata": {},
   "source": [
    "### Примеры"
   ]
  },
  {
   "cell_type": "code",
   "execution_count": 4,
   "metadata": {},
   "outputs": [
    {
     "name": "stdout",
     "output_type": "stream",
     "text": [
      "66-12\n"
     ]
    }
   ],
   "source": [
    "string = \"Телефон 666-12-12\"\n",
    "match = re.search(r\"\\d{2}\\D\\d{2}\", string)\n",
    "print(match[0] if match else \"Not found!\")"
   ]
  },
  {
   "cell_type": "code",
   "execution_count": 5,
   "metadata": {},
   "outputs": [
    {
     "name": "stdout",
     "output_type": "stream",
     "text": [
      "Not found!\n"
     ]
    }
   ],
   "source": [
    "string = \"Телефон 6661212\"\n",
    "match = re.search(r\"\\d{2}\\D\\d{2}\", string)\n",
    "print(match[0] if match else \"Not found!\")"
   ]
  },
  {
   "cell_type": "code",
   "execution_count": 11,
   "metadata": {},
   "outputs": [
    {
     "name": "stdout",
     "output_type": "stream",
     "text": [
      "Yes, this string is a full match\n"
     ]
    }
   ],
   "source": [
    "string = \"66-12\"\n",
    "match = re.fullmatch(r\"\\d{2}\\D\\d{2}\", string)\n",
    "print(\"Yes, this string is a full match\" if match else \"No, this string is not a full match\")"
   ]
  },
  {
   "cell_type": "code",
   "execution_count": 12,
   "metadata": {},
   "outputs": [
    {
     "name": "stdout",
     "output_type": "stream",
     "text": [
      "No, this string is not a full match\n"
     ]
    }
   ],
   "source": [
    "string = \"Number: 66-12\"\n",
    "match = re.fullmatch(r\"\\d{2}\\D\\d{2}\", string)\n",
    "print(\"Yes, this string is a full match\" if match else \"No, this string is not a full match\")"
   ]
  },
  {
   "cell_type": "code",
   "execution_count": 16,
   "metadata": {},
   "outputs": [
    {
     "name": "stdout",
     "output_type": "stream",
     "text": [
      "['Где', ' скажите мне', ' мои очки?!']\n",
      "['Где,', 'скажите', 'мне,', 'мои', 'очки?!']\n",
      "['Где', 'скажите мне', 'мои очки?!']\n",
      "['Где', 'скажите', 'мне', 'мои', 'очки?!']\n",
      "['Где', 'скажите', 'мне', 'мои', 'очки', '']\n"
     ]
    }
   ],
   "source": [
    "string = \"Где, скажите мне, мои очки?!\"\n",
    "print(string.split(sep=','))\n",
    "print(string.split(sep=' '))\n",
    "print(string.split(sep=', '))\n",
    "print(re.split(\", | \", string))\n",
    "print(re.split('\\W+', string))"
   ]
  },
  {
   "cell_type": "code",
   "execution_count": 17,
   "metadata": {},
   "outputs": [
    {
     "name": "stdout",
     "output_type": "stream",
     "text": [
      "['19.01.2018', '01.09.2017']\n"
     ]
    }
   ],
   "source": [
    "string = r'Эта строка написана 19.01.2018, а могла бы и 01.09.2017'\n",
    "pattern = r'\\d{2}\\.\\d{2}.\\d{4}'\n",
    "print(re.findall(pattern, string))"
   ]
  },
  {
   "cell_type": "code",
   "execution_count": 33,
   "metadata": {},
   "outputs": [
    {
     "name": "stdout",
     "output_type": "stream",
     "text": [
      "<re.Match object; span=(20, 30), match='19.01.2018'>\n",
      "start_index: 20 end_index: 30\n",
      "endposition_index: 55\n",
      "value: 19.01.2018\n",
      "\n",
      "<re.Match object; span=(45, 55), match='01.09.2017'>\n",
      "start_index: 45 end_index: 55\n",
      "endposition_index: 55\n",
      "value: 01.09.2017\n",
      "\n"
     ]
    }
   ],
   "source": [
    "string = r'Эта строка написана 19.01.2018, а могла бы и 01.09.2017'\n",
    "pattern = r'\\d{2}\\.\\d{2}.\\d{4}'\n",
    "for iter in re.finditer(pattern, string):\n",
    "    print(iter)\n",
    "    print(\"start_index:\", iter.start(), 'end_index:', iter.end())\n",
    "    print(\"endposition_index:\", iter.endpos)\n",
    "    print(\"value:\", iter[0])\n",
    "    print()"
   ]
  },
  {
   "cell_type": "markdown",
   "metadata": {},
   "source": [
    "##### Замена и удаление элементов строки"
   ]
  },
  {
   "cell_type": "code",
   "execution_count": 35,
   "metadata": {},
   "outputs": [
    {
     "name": "stdout",
     "output_type": "stream",
     "text": [
      "Эта строка написана DD.MM.YYYY, а могла бы и DD.MM.YYYY\n",
      "Эта строка написана DATE, а могла бы и DATE\n"
     ]
    }
   ],
   "source": [
    "string = r'Эта строка написана 19.01.2018, а могла бы и 01.09.2017'\n",
    "pattern = r'\\d{2}\\.\\d{2}.\\d{4}'\n",
    "repl_1 = r'DD.MM.YYYY'\n",
    "repl_2 = r'DATE'\n",
    "print(re.sub(pattern, repl_1, string))\n",
    "print(re.sub(pattern, repl_2, string))"
   ]
  },
  {
   "cell_type": "code",
   "execution_count": 66,
   "metadata": {},
   "outputs": [
    {
     "data": {
      "text/plain": [
       "'How to split text'"
      ]
     },
     "execution_count": 66,
     "metadata": {},
     "output_type": "execute_result"
    }
   ],
   "source": [
    "string = \"How, to? split. text!\"\n",
    "pattern = \"[,\\.?!]\"\n",
    "repl = ''\n",
    "re.sub(pattern, repl, string)"
   ]
  },
  {
   "cell_type": "code",
   "execution_count": 71,
   "metadata": {},
   "outputs": [
    {
     "data": {
      "text/plain": [
       "['I', 'can', 'play', 'football']"
      ]
     },
     "execution_count": 71,
     "metadata": {},
     "output_type": "execute_result"
    }
   ],
   "source": [
    "string = \"I 123 can 45 play 67 football\"\n",
    "pattern = \"[^A-z]\"\n",
    "repl = ' '\n",
    "re.sub(pattern, repl, string).split()"
   ]
  },
  {
   "cell_type": "markdown",
   "metadata": {},
   "source": [
    "##### Поиск 1-на и 2-х значных чисел"
   ]
  },
  {
   "cell_type": "code",
   "execution_count": 63,
   "metadata": {},
   "outputs": [
    {
     "data": {
      "text/plain": [
       "['49', '43', '2']"
      ]
     },
     "execution_count": 63,
     "metadata": {},
     "output_type": "execute_result"
    }
   ],
   "source": [
    "string = 'These are some numbers: 49 and 432'\n",
    "pattern = '\\d{1,2}'\n",
    "re.findall(pattern, string)"
   ]
  },
  {
   "cell_type": "markdown",
   "metadata": {},
   "source": [
    "### Экранирование"
   ]
  },
  {
   "cell_type": "code",
   "execution_count": 37,
   "metadata": {},
   "outputs": [
    {
     "name": "stdout",
     "output_type": "stream",
     "text": [
      "\\par\n",
      "\\\\par\n"
     ]
    }
   ],
   "source": [
    "string_1 = \"\\\\par\"\n",
    "string_2 = r'\\\\par'\n",
    "print(string_1)\n",
    "print(string_2)"
   ]
  },
  {
   "cell_type": "code",
   "execution_count": 38,
   "metadata": {},
   "outputs": [
    {
     "name": "stdout",
     "output_type": "stream",
     "text": [
      "\\\\par\n",
      "\\\\\\\\par\n"
     ]
    }
   ],
   "source": [
    "string_1 = \"\\\\\\\\par\"\n",
    "string_2 = r'\\\\\\\\par'\n",
    "print(string_1)\n",
    "print(string_2)"
   ]
  },
  {
   "cell_type": "markdown",
   "metadata": {},
   "source": [
    "### Порядок обработки"
   ]
  },
  {
   "cell_type": "code",
   "execution_count": 40,
   "metadata": {},
   "outputs": [
    {
     "data": {
      "text/plain": [
       "['a', 'b', 'c', 'super', 'a']"
      ]
     },
     "execution_count": 40,
     "metadata": {},
     "output_type": "execute_result"
    }
   ],
   "source": [
    "word = \"abcsuperglass\"\n",
    "re.findall(\"[abc]|super\", word)"
   ]
  },
  {
   "cell_type": "code",
   "execution_count": 41,
   "metadata": {},
   "outputs": [
    {
     "data": {
      "text/plain": [
       "['a', 'b', 'c', 'su', 'a']"
      ]
     },
     "execution_count": 41,
     "metadata": {},
     "output_type": "execute_result"
    }
   ],
   "source": [
    "word = \"abcsuperglass\"\n",
    "re.findall(\"[abc]|su|super\", word)"
   ]
  },
  {
   "cell_type": "code",
   "execution_count": 42,
   "metadata": {},
   "outputs": [
    {
     "data": {
      "text/plain": [
       "['a', 'b', 'c', 'super', 'a']"
      ]
     },
     "execution_count": 42,
     "metadata": {},
     "output_type": "execute_result"
    }
   ],
   "source": [
    "word = \"abcsuperglass\"\n",
    "re.findall(\"[abc]|up|super\", word)"
   ]
  }
 ],
 "metadata": {
  "kernelspec": {
   "display_name": ".venv",
   "language": "python",
   "name": "python3"
  },
  "language_info": {
   "codemirror_mode": {
    "name": "ipython",
    "version": 3
   },
   "file_extension": ".py",
   "mimetype": "text/x-python",
   "name": "python",
   "nbconvert_exporter": "python",
   "pygments_lexer": "ipython3",
   "version": "3.10.12"
  }
 },
 "nbformat": 4,
 "nbformat_minor": 2
}
